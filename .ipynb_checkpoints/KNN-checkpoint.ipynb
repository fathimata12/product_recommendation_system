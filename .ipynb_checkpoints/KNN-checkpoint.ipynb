{
 "cells": [
  {
   "cell_type": "code",
   "execution_count": 3,
   "id": "c97b547c",
   "metadata": {},
   "outputs": [],
   "source": [
    "import numpy as np\n",
    "import pandas as pd\n",
    "import matplotlib.pyplot as plt\n",
    "import seaborn as sns\n",
    "import sklearn\n",
    "from sklearn.decomposition import TruncatedSVD"
   ]
  },
  {
   "cell_type": "code",
   "execution_count": null,
   "id": "d742c490",
   "metadata": {},
   "outputs": [],
   "source": [
    "# loading data set"
   ]
  },
  {
   "cell_type": "code",
   "execution_count": null,
   "id": "3704fd80",
   "metadata": {},
   "outputs": [],
   "source": [
    "amazon_ratings = pd.read_csv('../input/amazon-ratings/ratings_Beauty.csv')\n",
    "amazon_ratings = amazon_ratings.dropna()\n",
    "amazon_ratings.head()"
   ]
  },
  {
   "cell_type": "code",
   "execution_count": null,
   "id": "ed6cc827",
   "metadata": {},
   "outputs": [],
   "source": [
    "amazon_ratings.shape"
   ]
  },
  {
   "cell_type": "markdown",
   "id": "4316174a",
   "metadata": {},
   "source": [
    "# PRODUCT POPULARITY BASED"
   ]
  },
  {
   "cell_type": "code",
   "execution_count": null,
   "id": "207b3063",
   "metadata": {},
   "outputs": [],
   "source": [
    "popular_products = pd.DataFrame(amazon_ratings.groupby('ProductId')['Rating'].count())\n",
    "most_popular = popular_products.sort_values('Rating', ascending=False)\n",
    "most_popular.head(10)"
   ]
  },
  {
   "cell_type": "code",
   "execution_count": null,
   "id": "dd5c7101",
   "metadata": {},
   "outputs": [],
   "source": [
    "most_popular.head(30).plot(kind = \"bar\")"
   ]
  },
  {
   "cell_type": "markdown",
   "id": "18ff2d23",
   "metadata": {},
   "source": [
    "# MODEL BASED"
   ]
  },
  {
   "cell_type": "code",
   "execution_count": null,
   "id": "09c01a0a",
   "metadata": {},
   "outputs": [],
   "source": [
    "# Subset of Amazon Ratings"
   ]
  },
  {
   "cell_type": "code",
   "execution_count": null,
   "id": "b0abfb6a",
   "metadata": {},
   "outputs": [],
   "source": [
    "amazon_ratings1 = amazon_ratings.head(10000)"
   ]
  },
  {
   "cell_type": "code",
   "execution_count": null,
   "id": "0020769b",
   "metadata": {},
   "outputs": [],
   "source": [
    "ratings_utility_matrix = amazon_ratings1.pivot_table(values='Rating', index='UserId', columns='ProductId', fill_value=0)\n",
    "ratings_utility_matrix.head()"
   ]
  },
  {
   "cell_type": "code",
   "execution_count": null,
   "id": "cdd7e53b",
   "metadata": {},
   "outputs": [],
   "source": [
    "ratings_utility_matrix.shape\n"
   ]
  },
  {
   "cell_type": "code",
   "execution_count": null,
   "id": "fef7184f",
   "metadata": {},
   "outputs": [],
   "source": [
    "#Transposing the matrix"
   ]
  },
  {
   "cell_type": "code",
   "execution_count": null,
   "id": "9edd25a7",
   "metadata": {},
   "outputs": [],
   "source": [
    "X = ratings_utility_matrix.T\n",
    "X.head()"
   ]
  },
  {
   "cell_type": "code",
   "execution_count": null,
   "id": "b992447e",
   "metadata": {},
   "outputs": [],
   "source": [
    "X.shape"
   ]
  },
  {
   "cell_type": "code",
   "execution_count": null,
   "id": "fff1d449",
   "metadata": {},
   "outputs": [],
   "source": [
    "#Unique products in subset of data"
   ]
  },
  {
   "cell_type": "markdown",
   "id": "92fdff2b",
   "metadata": {},
   "source": [
    "# Decomposing the matrix"
   ]
  },
  {
   "cell_type": "code",
   "execution_count": null,
   "id": "fe98d123",
   "metadata": {},
   "outputs": [],
   "source": [
    "SVD = TruncatedSVD(n_components=10)\n",
    "decomposed_matrix = SVD.fit_transform(X)\n",
    "decomposed_matrix.shape"
   ]
  },
  {
   "cell_type": "markdown",
   "id": "23cc7a62",
   "metadata": {},
   "source": [
    "# correlation matrix"
   ]
  },
  {
   "cell_type": "code",
   "execution_count": null,
   "id": "af6ffe36",
   "metadata": {},
   "outputs": [],
   "source": [
    "correlation_matrix = np.corrcoef(decomposed_matrix)\n",
    "correlation_matrix.shape"
   ]
  },
  {
   "cell_type": "code",
   "execution_count": null,
   "id": "05cee405",
   "metadata": {},
   "outputs": [],
   "source": [
    "#Isolating Product ID # 6117036094 from the Correlation Matrix"
   ]
  },
  {
   "cell_type": "code",
   "execution_count": null,
   "id": "17a3fe22",
   "metadata": {},
   "outputs": [],
   "source": [
    "X.index[99]"
   ]
  },
  {
   "cell_type": "code",
   "execution_count": null,
   "id": "3f9296cd",
   "metadata": {},
   "outputs": [],
   "source": [
    "#Index # of product ID purchased by customer"
   ]
  },
  {
   "cell_type": "code",
   "execution_count": null,
   "id": "5900d37b",
   "metadata": {},
   "outputs": [],
   "source": [
    "i = \"6117036094\"\n",
    "product_names = list(X.index)\n",
    "product_ID = product_names.index(i)\n",
    "product_ID"
   ]
  },
  {
   "cell_type": "code",
   "execution_count": null,
   "id": "8255dd6f",
   "metadata": {},
   "outputs": [],
   "source": [
    "#Correlation for all items with the item purchased by this customer based on items rated by other customers people who bought \n",
    "#the same product"
   ]
  },
  {
   "cell_type": "code",
   "execution_count": null,
   "id": "4e5718bd",
   "metadata": {},
   "outputs": [],
   "source": [
    "correlation_product_ID = correlation_matrix[product_ID]\n",
    "correlation_product_ID.shape"
   ]
  },
  {
   "cell_type": "markdown",
   "id": "8a546dc7",
   "metadata": {},
   "source": [
    "# Recommending top 10 highly correlated products in sequence"
   ]
  },
  {
   "cell_type": "code",
   "execution_count": null,
   "id": "6f61079c",
   "metadata": {},
   "outputs": [],
   "source": [
    "Recommend = list(X.index[correlation_product_ID > 0.90])"
   ]
  },
  {
   "cell_type": "code",
   "execution_count": null,
   "id": "95a76bf0",
   "metadata": {},
   "outputs": [],
   "source": [
    "# Removes the item already bought by the customer"
   ]
  },
  {
   "cell_type": "code",
   "execution_count": null,
   "id": "c2562d65",
   "metadata": {},
   "outputs": [],
   "source": [
    "Recommend.remove(i) \n",
    "Recommend[0:9]"
   ]
  },
  {
   "cell_type": "markdown",
   "id": "e22f59f4",
   "metadata": {},
   "source": [
    "# K MEANS\n",
    "# K MEANS\n",
    "# K MEANS"
   ]
  },
  {
   "cell_type": "code",
   "execution_count": null,
   "id": "e57ee399",
   "metadata": {},
   "outputs": [],
   "source": [
    "# Importing libraries"
   ]
  },
  {
   "cell_type": "code",
   "execution_count": null,
   "id": "e527deac",
   "metadata": {},
   "outputs": [],
   "source": [
    "from sklearn.feature_extraction.text import TfidfVectorizer, CountVectorizer\n",
    "from sklearn.neighbors import NearestNeighbors\n",
    "from sklearn.cluster import KMeans\n",
    "from sklearn.metrics import adjusted_rand_score"
   ]
  },
  {
   "cell_type": "code",
   "execution_count": null,
   "id": "1781e413",
   "metadata": {},
   "outputs": [],
   "source": [
    "#Item to item based recommendation system based on product description"
   ]
  },
  {
   "cell_type": "code",
   "execution_count": null,
   "id": "0213376f",
   "metadata": {},
   "outputs": [],
   "source": [
    "product_descriptions = pd.read_csv('../input/home-depot-product-search-relevance/product_descriptions.csv')\n",
    "product_descriptions.shape"
   ]
  },
  {
   "cell_type": "code",
   "execution_count": null,
   "id": "d6495385",
   "metadata": {},
   "outputs": [],
   "source": [
    "#Checking for missing values"
   ]
  },
  {
   "cell_type": "code",
   "execution_count": null,
   "id": "44159e43",
   "metadata": {},
   "outputs": [],
   "source": [
    "product_descriptions = product_descriptions.dropna()\n",
    "product_descriptions.shape\n",
    "product_descriptions.head()"
   ]
  },
  {
   "cell_type": "code",
   "execution_count": null,
   "id": "0998b438",
   "metadata": {},
   "outputs": [],
   "source": [
    "product_descriptions1 = product_descriptions.head(500)"
   ]
  },
  {
   "cell_type": "code",
   "execution_count": null,
   "id": "de03b308",
   "metadata": {},
   "outputs": [],
   "source": [
    "# product_descriptions1.iloc[:,1]"
   ]
  },
  {
   "cell_type": "code",
   "execution_count": null,
   "id": "ba009f1a",
   "metadata": {},
   "outputs": [],
   "source": [
    "product_descriptions1[\"product_description\"].head(10)"
   ]
  },
  {
   "cell_type": "code",
   "execution_count": null,
   "id": "1cf5eb05",
   "metadata": {},
   "outputs": [],
   "source": [
    "#Converting the text in product description into numerical data for analysis"
   ]
  },
  {
   "cell_type": "code",
   "execution_count": null,
   "id": "c8232a9a",
   "metadata": {},
   "outputs": [],
   "source": [
    "vectorizer = TfidfVectorizer(stop_words='english')\n",
    "X1 = vectorizer.fit_transform(product_descriptions1[\"product_description\"])\n",
    "X1"
   ]
  },
  {
   "cell_type": "code",
   "execution_count": null,
   "id": "9a0e4232",
   "metadata": {},
   "outputs": [],
   "source": [
    "#Visualizing product clusters in subset of data"
   ]
  },
  {
   "cell_type": "markdown",
   "id": "09b1dba0",
   "metadata": {},
   "source": [
    "# Fitting K-Means to the dataset"
   ]
  },
  {
   "cell_type": "code",
   "execution_count": null,
   "id": "82420801",
   "metadata": {},
   "outputs": [],
   "source": [
    "X=X1\n",
    "kmeans = KMeans(n_clusters = 10, init = 'k-means++')\n",
    "y_kmeans = kmeans.fit_predict(X)\n",
    "plt.plot(y_kmeans, \".\")\n",
    "plt.show()"
   ]
  },
  {
   "cell_type": "code",
   "execution_count": null,
   "id": "d55aa7a3",
   "metadata": {},
   "outputs": [],
   "source": [
    "def print_cluster(i):\n",
    "    print(\"Cluster %d:\" % i),\n",
    "    for ind in order_centroids[i, :10]:\n",
    "        print(' %s' % terms[ind]),\n",
    "    print"
   ]
  },
  {
   "cell_type": "code",
   "execution_count": null,
   "id": "edb64bd1",
   "metadata": {},
   "outputs": [],
   "source": [
    "#Top words in each cluster based on product description"
   ]
  },
  {
   "cell_type": "code",
   "execution_count": null,
   "id": "7d5129ea",
   "metadata": {},
   "outputs": [],
   "source": [
    "# # Optimal clusters is "
   ]
  },
  {
   "cell_type": "code",
   "execution_count": null,
   "id": "5fffcede",
   "metadata": {},
   "outputs": [],
   "source": [
    "true_k = 10\n",
    "model = KMeans(n_clusters=true_k, init='k-means++', max_iter=100, n_init=1)\n",
    "model.fit(X1)\n",
    "\n",
    "print(\"Top terms per cluster:\")\n",
    "order_centroids = model.cluster_centers_.argsort()[:, ::-1]\n",
    "terms = vectorizer.get_feature_names()\n",
    "for i in range(true_k):\n",
    "    print_cluster(i)"
   ]
  },
  {
   "cell_type": "code",
   "execution_count": null,
   "id": "234984b7",
   "metadata": {},
   "outputs": [],
   "source": [
    "#Predicting clusters based on key search words"
   ]
  },
  {
   "cell_type": "code",
   "execution_count": null,
   "id": "f1cc5160",
   "metadata": {},
   "outputs": [],
   "source": [
    "def show_recommendations(product):"
   ]
  },
  {
   "cell_type": "code",
   "execution_count": null,
   "id": "0854c2be",
   "metadata": {},
   "outputs": [],
   "source": [
    "#print(\"Cluster ID:\")"
   ]
  },
  {
   "cell_type": "code",
   "execution_count": null,
   "id": "9c500164",
   "metadata": {},
   "outputs": [],
   "source": [
    " Y = vectorizer.transform([product])\n",
    "    prediction = model.predict(Y)"
   ]
  },
  {
   "cell_type": "code",
   "execution_count": null,
   "id": "83318785",
   "metadata": {},
   "outputs": [],
   "source": [
    "#print(prediction)"
   ]
  },
  {
   "cell_type": "code",
   "execution_count": null,
   "id": "8d9191a7",
   "metadata": {},
   "outputs": [],
   "source": [
    " print_cluster(prediction[0])"
   ]
  },
  {
   "cell_type": "code",
   "execution_count": null,
   "id": "45359e8b",
   "metadata": {},
   "outputs": [],
   "source": [
    "#Keyword : cutting tool"
   ]
  },
  {
   "cell_type": "code",
   "execution_count": null,
   "id": "8c72bf72",
   "metadata": {},
   "outputs": [],
   "source": [
    "show_recommendations(\"cutting tool\")"
   ]
  },
  {
   "cell_type": "code",
   "execution_count": null,
   "id": "2096357f",
   "metadata": {},
   "outputs": [],
   "source": [
    "#Keyword : spray paint"
   ]
  },
  {
   "cell_type": "code",
   "execution_count": null,
   "id": "3a1eede5",
   "metadata": {},
   "outputs": [],
   "source": [
    "show_recommendations(\"spray paint\")"
   ]
  },
  {
   "cell_type": "code",
   "execution_count": null,
   "id": "e9359190",
   "metadata": {},
   "outputs": [],
   "source": [
    "#Keyword : steel drill"
   ]
  },
  {
   "cell_type": "code",
   "execution_count": null,
   "id": "a273248f",
   "metadata": {},
   "outputs": [],
   "source": [
    "show_recommendations(\"steel drill\")"
   ]
  },
  {
   "cell_type": "code",
   "execution_count": null,
   "id": "052da573",
   "metadata": {},
   "outputs": [],
   "source": [
    "#Keyword : water"
   ]
  },
  {
   "cell_type": "code",
   "execution_count": null,
   "id": "386ab0ae",
   "metadata": {},
   "outputs": [],
   "source": [
    "show_recommendations(\"water\")"
   ]
  },
  {
   "cell_type": "code",
   "execution_count": null,
   "id": "549e4781",
   "metadata": {},
   "outputs": [],
   "source": []
  },
  {
   "cell_type": "code",
   "execution_count": null,
   "id": "4fc2553e",
   "metadata": {},
   "outputs": [],
   "source": []
  },
  {
   "cell_type": "code",
   "execution_count": null,
   "id": "2d79f3e3",
   "metadata": {},
   "outputs": [],
   "source": []
  },
  {
   "cell_type": "code",
   "execution_count": null,
   "id": "f288e625",
   "metadata": {},
   "outputs": [],
   "source": []
  }
 ],
 "metadata": {
  "kernelspec": {
   "display_name": "Python 3 (ipykernel)",
   "language": "python",
   "name": "python3"
  },
  "language_info": {
   "codemirror_mode": {
    "name": "ipython",
    "version": 3
   },
   "file_extension": ".py",
   "mimetype": "text/x-python",
   "name": "python",
   "nbconvert_exporter": "python",
   "pygments_lexer": "ipython3",
   "version": "3.9.13"
  }
 },
 "nbformat": 4,
 "nbformat_minor": 5
}
